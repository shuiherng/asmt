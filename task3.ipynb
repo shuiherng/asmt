{
 "cells": [
  {
   "cell_type": "code",
   "execution_count": 192,
   "metadata": {},
   "outputs": [],
   "source": [
    "# In this task we perform and implement prototypes of 3 algorithms used for threat detection\n",
    "# 1. Average packets\n",
    "# 2. Port Scanning\n",
    "# 3. Frequency Analysis\n",
    "# The assumptions used in each algorithm are outlined in their descriptions.\n",
    "\n",
    "LOG_PATH = \"../log/http.log\"\n",
    "\n",
    "import matplotlib.pyplot as plt\n",
    "import numpy as np\n",
    "import pandas as pd\n",
    "import time\n",
    "\n",
    "from pylab import *\n",
    "from scipy.fftpack import fft, fftfreq"
   ]
  },
  {
   "cell_type": "code",
   "execution_count": 17,
   "metadata": {},
   "outputs": [],
   "source": [
    "\"\"\"\n",
    "Reference: http://gauss.ececs.uc.edu/Courses/c6055/pdf/bro_log_vars.pdf\n",
    "\"\"\"\n",
    "\n",
    "names = ['ts', 'uid', 'id.orig_h', 'id.orig_p', 'id.resp_h', 'id.resp_p', 'id.trans_depth', 'method', \n",
    "         'host', 'uri', 'referrer', 'user_agent', 'request_body_len', 'response_body_len', 'status_code',\n",
    "         'status_msg', 'info_code', 'info_msg', 'filename', 'tags', 'username', 'password', 'proxied',\n",
    "         'orig_fuids', 'orig_mime_types', 'resp_fuids', 'resp_mime_types']"
   ]
  },
  {
   "cell_type": "code",
   "execution_count": 9,
   "metadata": {},
   "outputs": [
    {
     "data": {
      "text/html": [
       "<div>\n",
       "<style scoped>\n",
       "    .dataframe tbody tr th:only-of-type {\n",
       "        vertical-align: middle;\n",
       "    }\n",
       "\n",
       "    .dataframe tbody tr th {\n",
       "        vertical-align: top;\n",
       "    }\n",
       "\n",
       "    .dataframe thead th {\n",
       "        text-align: right;\n",
       "    }\n",
       "</style>\n",
       "<table border=\"1\" class=\"dataframe\">\n",
       "  <thead>\n",
       "    <tr style=\"text-align: right;\">\n",
       "      <th></th>\n",
       "      <th>ts</th>\n",
       "      <th>uid</th>\n",
       "      <th>id.orig_h</th>\n",
       "      <th>id.orig_p</th>\n",
       "      <th>id.resp_h</th>\n",
       "      <th>id.resp_p</th>\n",
       "      <th>id.trans_depth</th>\n",
       "      <th>method</th>\n",
       "      <th>host</th>\n",
       "      <th>uri</th>\n",
       "      <th>...</th>\n",
       "      <th>info_msg</th>\n",
       "      <th>filename</th>\n",
       "      <th>tags</th>\n",
       "      <th>username</th>\n",
       "      <th>password</th>\n",
       "      <th>proxied</th>\n",
       "      <th>orig_fuids</th>\n",
       "      <th>orig_mime_types</th>\n",
       "      <th>resp_fuids</th>\n",
       "      <th>resp_mime_types</th>\n",
       "    </tr>\n",
       "  </thead>\n",
       "  <tbody>\n",
       "    <tr>\n",
       "      <th>2048437</th>\n",
       "      <td>1.332017e+09</td>\n",
       "      <td>CAfsIz2A8Xu5WbUXK8</td>\n",
       "      <td>192.168.202.87</td>\n",
       "      <td>44974</td>\n",
       "      <td>192.168.201.2</td>\n",
       "      <td>80</td>\n",
       "      <td>10</td>\n",
       "      <td>POST</td>\n",
       "      <td>192.168.201.2</td>\n",
       "      <td>/reporting/generateReport.php</td>\n",
       "      <td>...</td>\n",
       "      <td>-</td>\n",
       "      <td>-</td>\n",
       "      <td>(empty)</td>\n",
       "      <td>-</td>\n",
       "      <td>-</td>\n",
       "      <td>-</td>\n",
       "      <td>F56aWQ2fj0GIeiEAja</td>\n",
       "      <td>text/plain</td>\n",
       "      <td>F3NLO522BrxzbzGdt5</td>\n",
       "      <td>text/html</td>\n",
       "    </tr>\n",
       "    <tr>\n",
       "      <th>2048438</th>\n",
       "      <td>1.332017e+09</td>\n",
       "      <td>CzyNKg1x0ufzurDE6f</td>\n",
       "      <td>192.168.202.87</td>\n",
       "      <td>44975</td>\n",
       "      <td>192.168.201.2</td>\n",
       "      <td>80</td>\n",
       "      <td>1</td>\n",
       "      <td>POST</td>\n",
       "      <td>192.168.201.2</td>\n",
       "      <td>/flagsubmission/getHandleInfo.php</td>\n",
       "      <td>...</td>\n",
       "      <td>-</td>\n",
       "      <td>-</td>\n",
       "      <td>(empty)</td>\n",
       "      <td>-</td>\n",
       "      <td>-</td>\n",
       "      <td>-</td>\n",
       "      <td>F7WFOD3BY7HbV8KjX3</td>\n",
       "      <td>text/plain</td>\n",
       "      <td>FuzeP9PNt0qr85Ib2</td>\n",
       "      <td>text/html</td>\n",
       "    </tr>\n",
       "    <tr>\n",
       "      <th>2048439</th>\n",
       "      <td>1.332017e+09</td>\n",
       "      <td>CzyNKg1x0ufzurDE6f</td>\n",
       "      <td>192.168.202.87</td>\n",
       "      <td>44975</td>\n",
       "      <td>192.168.201.2</td>\n",
       "      <td>80</td>\n",
       "      <td>2</td>\n",
       "      <td>POST</td>\n",
       "      <td>192.168.201.2</td>\n",
       "      <td>/reporting/generateReport.php</td>\n",
       "      <td>...</td>\n",
       "      <td>-</td>\n",
       "      <td>-</td>\n",
       "      <td>(empty)</td>\n",
       "      <td>-</td>\n",
       "      <td>-</td>\n",
       "      <td>-</td>\n",
       "      <td>FFbfyC2hSnNrUOKtSa</td>\n",
       "      <td>text/plain</td>\n",
       "      <td>FqI5OD2cvTjws3VMd</td>\n",
       "      <td>text/html</td>\n",
       "    </tr>\n",
       "    <tr>\n",
       "      <th>2048440</th>\n",
       "      <td>1.332017e+09</td>\n",
       "      <td>CzyNKg1x0ufzurDE6f</td>\n",
       "      <td>192.168.202.87</td>\n",
       "      <td>44975</td>\n",
       "      <td>192.168.201.2</td>\n",
       "      <td>80</td>\n",
       "      <td>3</td>\n",
       "      <td>POST</td>\n",
       "      <td>192.168.201.2</td>\n",
       "      <td>/flagsubmission/getHandleInfo.php</td>\n",
       "      <td>...</td>\n",
       "      <td>-</td>\n",
       "      <td>-</td>\n",
       "      <td>(empty)</td>\n",
       "      <td>-</td>\n",
       "      <td>-</td>\n",
       "      <td>-</td>\n",
       "      <td>FH8qsC1rQAFZJHfnAc</td>\n",
       "      <td>text/plain</td>\n",
       "      <td>FupI2p4JEuUGrdlK25</td>\n",
       "      <td>text/html</td>\n",
       "    </tr>\n",
       "    <tr>\n",
       "      <th>2048441</th>\n",
       "      <td>1.332017e+09</td>\n",
       "      <td>CzyNKg1x0ufzurDE6f</td>\n",
       "      <td>192.168.202.87</td>\n",
       "      <td>44975</td>\n",
       "      <td>192.168.201.2</td>\n",
       "      <td>80</td>\n",
       "      <td>4</td>\n",
       "      <td>POST</td>\n",
       "      <td>192.168.201.2</td>\n",
       "      <td>/reporting/generateReport.php</td>\n",
       "      <td>...</td>\n",
       "      <td>-</td>\n",
       "      <td>-</td>\n",
       "      <td>(empty)</td>\n",
       "      <td>-</td>\n",
       "      <td>-</td>\n",
       "      <td>-</td>\n",
       "      <td>FfrmnO2FQmr9ha1HK2</td>\n",
       "      <td>text/plain</td>\n",
       "      <td>FMFblO2dIdqHPs1S29</td>\n",
       "      <td>text/html</td>\n",
       "    </tr>\n",
       "  </tbody>\n",
       "</table>\n",
       "<p>5 rows × 27 columns</p>\n",
       "</div>"
      ],
      "text/plain": [
       "                   ts                 uid       id.orig_h  id.orig_p  \\\n",
       "2048437  1.332017e+09  CAfsIz2A8Xu5WbUXK8  192.168.202.87      44974   \n",
       "2048438  1.332017e+09  CzyNKg1x0ufzurDE6f  192.168.202.87      44975   \n",
       "2048439  1.332017e+09  CzyNKg1x0ufzurDE6f  192.168.202.87      44975   \n",
       "2048440  1.332017e+09  CzyNKg1x0ufzurDE6f  192.168.202.87      44975   \n",
       "2048441  1.332017e+09  CzyNKg1x0ufzurDE6f  192.168.202.87      44975   \n",
       "\n",
       "             id.resp_h  id.resp_p  id.trans_depth method           host  \\\n",
       "2048437  192.168.201.2         80              10   POST  192.168.201.2   \n",
       "2048438  192.168.201.2         80               1   POST  192.168.201.2   \n",
       "2048439  192.168.201.2         80               2   POST  192.168.201.2   \n",
       "2048440  192.168.201.2         80               3   POST  192.168.201.2   \n",
       "2048441  192.168.201.2         80               4   POST  192.168.201.2   \n",
       "\n",
       "                                       uri  ... info_msg filename     tags  \\\n",
       "2048437      /reporting/generateReport.php  ...        -        -  (empty)   \n",
       "2048438  /flagsubmission/getHandleInfo.php  ...        -        -  (empty)   \n",
       "2048439      /reporting/generateReport.php  ...        -        -  (empty)   \n",
       "2048440  /flagsubmission/getHandleInfo.php  ...        -        -  (empty)   \n",
       "2048441      /reporting/generateReport.php  ...        -        -  (empty)   \n",
       "\n",
       "         username password proxied          orig_fuids orig_mime_types  \\\n",
       "2048437         -        -       -  F56aWQ2fj0GIeiEAja      text/plain   \n",
       "2048438         -        -       -  F7WFOD3BY7HbV8KjX3      text/plain   \n",
       "2048439         -        -       -  FFbfyC2hSnNrUOKtSa      text/plain   \n",
       "2048440         -        -       -  FH8qsC1rQAFZJHfnAc      text/plain   \n",
       "2048441         -        -       -  FfrmnO2FQmr9ha1HK2      text/plain   \n",
       "\n",
       "                 resp_fuids resp_mime_types  \n",
       "2048437  F3NLO522BrxzbzGdt5       text/html  \n",
       "2048438   FuzeP9PNt0qr85Ib2       text/html  \n",
       "2048439   FqI5OD2cvTjws3VMd       text/html  \n",
       "2048440  FupI2p4JEuUGrdlK25       text/html  \n",
       "2048441  FMFblO2dIdqHPs1S29       text/html  \n",
       "\n",
       "[5 rows x 27 columns]"
      ]
     },
     "execution_count": 9,
     "metadata": {},
     "output_type": "execute_result"
    }
   ],
   "source": [
    "df = pd.read_csv(LOG_PATH, sep = \"\\\\t\", engine = 'python', header = None, names = names)\n",
    "df.tail()\n",
    "        "
   ]
  },
  {
   "cell_type": "code",
   "execution_count": 7,
   "metadata": {},
   "outputs": [
    {
     "data": {
      "text/plain": [
       "ts                   float64\n",
       "uid                   object\n",
       "id.orig_h             object\n",
       "id.orig_p              int64\n",
       "id.resp_h             object\n",
       "id.resp_p              int64\n",
       "id.trans_depth         int64\n",
       "method                object\n",
       "host                  object\n",
       "uri                   object\n",
       "referrer              object\n",
       "user_agent            object\n",
       "request_body_len       int64\n",
       "response_body_len      int64\n",
       "status_code           object\n",
       "status_msg            object\n",
       "info_code             object\n",
       "info_msg              object\n",
       "filename              object\n",
       "tags                  object\n",
       "username              object\n",
       "password              object\n",
       "proxied               object\n",
       "orig_fuids            object\n",
       "orig_mime_types       object\n",
       "resp_fuids            object\n",
       "resp_mime_types       object\n",
       "dtype: object"
      ]
     },
     "execution_count": 7,
     "metadata": {},
     "output_type": "execute_result"
    }
   ],
   "source": [
    "# some of the types don't really match up with the documentation\n",
    "df.dtypes"
   ]
  },
  {
   "cell_type": "code",
   "execution_count": 57,
   "metadata": {},
   "outputs": [
    {
     "data": {
      "text/plain": [
       "<matplotlib.axes._subplots.AxesSubplot at 0x1d21bd8ea88>"
      ]
     },
     "execution_count": 57,
     "metadata": {},
     "output_type": "execute_result"
    },
    {
     "data": {
      "image/png": "[encoded data removed]",
      "text/plain": [
       "<Figure size 432x288 with 1 Axes>"
      ]
     },
     "metadata": {
      "needs_background": "light"
     },
     "output_type": "display_data"
    }
   ],
   "source": [
    "# here we perform some basic visualizations to get a sense of the data\n",
    "# find unusually high request counts by IP\n",
    "# can indicate attempted denial of service or host trying to check for open TCP ports\n",
    "# We implement the denial of service detection, but it seems the port scanning attack is not within the\n",
    "# scope of this dataset since the destination ports are limited to the following:\n",
    "# [80, 5357, 5488, 8080, 8000, 1337, 3128, 8834]\n",
    "df['id.orig_h'].value_counts()[:10].plot.bar(width = 0.4, position = 1, color = 'red', title = 'Fig 1: Source IP Frequencies')\n"
   ]
  },
  {
   "cell_type": "code",
   "execution_count": 59,
   "metadata": {},
   "outputs": [
    {
     "data": {
      "text/plain": [
       "<matplotlib.axes._subplots.AxesSubplot at 0x1d21bd92688>"
      ]
     },
     "execution_count": 59,
     "metadata": {},
     "output_type": "execute_result"
    },
    {
     "data": {
      "image/png": "[encoded data removed]",
      "text/plain": [
       "<Figure size 432x288 with 1 Axes>"
      ]
     },
     "metadata": {
      "needs_background": "light"
     },
     "output_type": "display_data"
    }
   ],
   "source": [
    "# check for IPs receiving the largest number of requests\n",
    "# useful for detecting distributed attacks or perhaps detecting a C2 host which is receiving messages\n",
    "# from a worm once it has successfully assumed control of a new device.\n",
    "df['id.resp_h'].value_counts()[:10].plot.bar(width = 0.4, position = 0, color = 'blue', title = 'Fig 2: Dest IP Frequencies')"
   ]
  },
  {
   "cell_type": "code",
   "execution_count": 76,
   "metadata": {},
   "outputs": [
    {
     "name": "stdout",
     "output_type": "stream",
     "text": [
      "Total requests: (1289498, 27)\n",
      "Unique dest ports [80]\n",
      "Timestamp range: 17822.819999933243\n",
      "Avg. Requests per second: 72.35095231870321\n"
     ]
    }
   ],
   "source": [
    "# EXPERIMENT 1: Denial of Service\n",
    "# Nature of attack: Assessing web server's ability to respond to large quantities of requests\n",
    "# from a single host.\n",
    "# We can simply output the IPs where the number of requests exceed a certain threshold \n",
    "# (in terms of requests per unit time), but we can do better. Let's take a look at the nature of these\n",
    "# requests. Specifically, we focus first on the source IP which issued the most number of requests observed.\n",
    "# We assume that the attacks are not distributed in this case - they're all carried out by the same src.\n",
    "\n",
    "tdf = df[df['id.orig_h'] == '192.168.203.63']\n",
    "print(\"Total requests:\", tdf.shape) # we check the number of requests being made by this IP address\n",
    "print(\"Unique dest ports\", tdf['id.resp_p'].unique()) # number of dest ports - here it's just 80 so they're all http requests\n",
    "print(\"Timestamp range:\", tdf['ts'].max()-tdf['ts'].min()) # timestamp range (in seconds)\n",
    "\n",
    "print(\"Avg. Requests per second:\", tdf.shape[0]/(tdf['ts'].max()-tdf['ts'].min()))\n",
    "# We observe that on average, this IP address makes 72 queries a second over the course of ~5 hours."
   ]
  },
  {
   "cell_type": "code",
   "execution_count": 96,
   "metadata": {},
   "outputs": [
    {
     "name": "stdout",
     "output_type": "stream",
     "text": [
      "[{'src_ip': '192.168.203.63', 'total_req': 1289498, 'avg_req_per_sec': 72.35095231870321}, {'src_ip': '192.168.202.110', 'total_req': 169126, 'avg_req_per_sec': 5.2968156656409775}]\n"
     ]
    }
   ],
   "source": [
    "# SAMPLE IMPLEMENTATION\n",
    "# Based on experiment 1\n",
    "# We perform this analysis for all IPs (which send a certain threshold number of requests)\n",
    "TOTAL_REQ_THRESHOLD = 2000\n",
    "REQ_PER_SEC_THRESHOLD = 5.0\n",
    "\n",
    "graylist_1 = []\n",
    "for src, freq in df['id.orig_h'].value_counts().items():\n",
    "    if freq > TOTAL_REQ_THRESHOLD:\n",
    "        tdf = df[df['id.orig_h'] == src]\n",
    "        if tdf.shape[0]/(tdf['ts'].max() - tdf['ts'].min()) > REQ_PER_SEC_THRESHOLD:\n",
    "            graylist_1.append({'src_ip': src, \n",
    "                             'total_req': tdf.shape[0], \n",
    "                             'avg_req_per_sec': tdf.shape[0]/(tdf['ts'].max() - tdf['ts'].min())})\n",
    "print(graylist_1)"
   ]
  },
  {
   "cell_type": "code",
   "execution_count": 92,
   "metadata": {},
   "outputs": [
    {
     "name": "stdout",
     "output_type": "stream",
     "text": [
      "unique ports: [  80 5357 5488 8080 8000 1337 3128 8834]\n",
      "IPs targeting port 8834:\n",
      " 192.168.204.45    2\n",
      "Name: id.orig_h, dtype: int64\n"
     ]
    }
   ],
   "source": [
    "# EXPERIMENT 2: Port Scanning and known attacks correlated to ports\n",
    "# Nature of Attack: An attacker may wish to find open TCP ports, or to try their luck with port knocking.\n",
    "# This analysis is performed by finding which IP addresses make requests to a large number of different ports.\n",
    "print(\"unique ports:\", df['id.resp_p'].unique())\n",
    "\n",
    "# Some research shows that a certain number of ports have been known to be used by malicious attackers.\n",
    "# For instance: port 8834 is commonly used by Nessus web, an application used to discover network\n",
    "# vulnerabilities. To find IPs which are utilizing this port:\n",
    "print(\"IPs targeting port 8834:\\n\",df[df['id.resp_p'] == 8834]['id.orig_h'].value_counts())\n",
    "    \n",
    "# We observe that 192.168.204.45 is targeting this port, and has issued two requests. We may want to add\n",
    "# this IP to the graylist for further study."
   ]
  },
  {
   "cell_type": "code",
   "execution_count": 97,
   "metadata": {},
   "outputs": [
    {
     "name": "stdout",
     "output_type": "stream",
     "text": [
      "[{'src_ip': '192.168.202.112', 'total_req': 1, 'target_port': 1337}, {'src_ip': '192.168.202.110', 'total_req': 1, 'target_port': 1337}, {'src_ip': '192.168.202.110', 'total_req': 12593, 'target_port': 3128}, {'src_ip': '192.168.202.138', 'total_req': 7381, 'target_port': 3128}, {'src_ip': '192.168.202.140', 'total_req': 2434, 'target_port': 3128}, {'src_ip': '192.168.202.68', 'total_req': 230, 'target_port': 3128}, {'src_ip': '192.168.202.112', 'total_req': 50, 'target_port': 3128}, {'src_ip': '192.168.202.79', 'total_req': 35, 'target_port': 3128}, {'src_ip': '192.168.202.108', 'total_req': 24, 'target_port': 3128}, {'src_ip': '192.168.204.45', 'total_req': 18, 'target_port': 3128}, {'src_ip': '192.168.202.90', 'total_req': 11, 'target_port': 3128}, {'src_ip': '192.168.202.4', 'total_req': 8, 'target_port': 3128}, {'src_ip': '2001:dbb:c18:202:20c:29ff:fe93:571e', 'total_req': 5, 'target_port': 3128}, {'src_ip': '192.168.203.45', 'total_req': 4, 'target_port': 3128}, {'src_ip': '192.168.202.136', 'total_req': 3, 'target_port': 3128}, {'src_ip': '192.168.202.100', 'total_req': 3, 'target_port': 3128}, {'src_ip': '192.168.202.94', 'total_req': 2, 'target_port': 3128}, {'src_ip': '192.168.202.80', 'total_req': 1, 'target_port': 3128}, {'src_ip': '192.168.202.101', 'total_req': 1, 'target_port': 3128}, {'src_ip': '192.168.204.45', 'total_req': 2, 'target_port': 8834}]\n"
     ]
    }
   ],
   "source": [
    "# SAMPLE IMPLEMENTATION\n",
    "# Based on experiment 2\n",
    "# We perform this same analysis by constructing port filter rules for the following ports\n",
    "# 1337: Used by the trojan Shadyshell (According to SANS)\n",
    "# 3128: Used by several threats and trojans including RingZero, Mydoom and Deadhat\n",
    "# 8834: As above.\n",
    "# We assume that we have a list of ports which are known to be vulnerable and are \"easy targets\"\n",
    "# for attackers, which can be used for running this form of analysis\n",
    "GRAYLIST_PORTS = [1337, 3128, 8834]\n",
    "\n",
    "graylist_2 = []\n",
    "for port in GRAYLIST_PORTS:\n",
    "    for src, freq in df[df['id.resp_p'] == port]['id.orig_h'].value_counts().items():\n",
    "        graylist_2.append({'src_ip': src, 'total_req': freq, 'target_port': port})\n",
    "\n",
    "print(graylist_2)"
   ]
  },
  {
   "cell_type": "code",
   "execution_count": 139,
   "metadata": {},
   "outputs": [
    {
     "data": {
      "text/plain": [
       "'\\ntdf[\\'ts\\'] = pd.to_datetime(tdf[\\'ts\\'], unit = \\'s\\', origin = \\'unix\\')\\ntdf = tdf.set_index(\\'ts\\')\\ntdf.resample(\"30S\").pad() # resampling doesn\\'t work some weird reindexing error\\ntdf.rolling(\\'30s\\') # this doesn\\'t work either - known issue with using rolling function\\n'"
      ]
     },
     "execution_count": 139,
     "metadata": {},
     "output_type": "execute_result"
    }
   ],
   "source": [
    "# Experiment 3 - a proof of concept: \n",
    "# We attempt to perform periodic beaconing detection by finding IPs which send\n",
    "# large quantities of requests at fixed intervals. In this experiment we utilize the request volume as\n",
    "# a proof of concept, but it is easily extendible to aggregating the request payload sizes, or sum of\n",
    "# payload responses to this host. In this case, we select the host which sent out the most requests,\n",
    "# in hopes to find some sort of pattern. To do this, we count the number of requests in every time window\n",
    "# of fixed length, then perform a fourier transform to find a pattern in request frequency.\n",
    "\n",
    "tdf = df[df['id.orig_h'] == '192.168.203.63']\n",
    "\n",
    "\"\"\"\n",
    "tdf['ts'] = pd.to_datetime(tdf['ts'], unit = 's', origin = 'unix')\n",
    "tdf = tdf.set_index('ts')\n",
    "tdf.resample(\"30S\").pad() # resampling doesn't work - some weird reindexing error\n",
    "tdf.rolling('30s') # this doesn't work either - known issue with using rolling function with timedelta windows\n",
    "\"\"\""
   ]
  },
  {
   "cell_type": "code",
   "execution_count": 167,
   "metadata": {},
   "outputs": [
    {
     "name": "stdout",
     "output_type": "stream",
     "text": [
      "Processed 0 of 1289498 entries\n",
      "Processed 100000 of 1289498 entries\n",
      "Processed 200000 of 1289498 entries\n",
      "Processed 300000 of 1289498 entries\n",
      "Processed 400000 of 1289498 entries\n",
      "Processed 500000 of 1289498 entries\n",
      "Processed 600000 of 1289498 entries\n",
      "Processed 700000 of 1289498 entries\n",
      "Processed 800000 of 1289498 entries\n",
      "Processed 900000 of 1289498 entries\n",
      "Processed 1000000 of 1289498 entries\n",
      "Processed 1100000 of 1289498 entries\n",
      "Processed 1200000 of 1289498 entries\n",
      "done\n"
     ]
    }
   ],
   "source": [
    "# convert to rolling window here (but the builtin functions are broken so we make our own)\n",
    "# this is really slow processing maybe a million entries a minute because it's linear, but can be\n",
    "# sped up using a binary tree or something (the rolling function in pandas supposedly does this)\n",
    "WINDOW_SIZE_SECONDS = 30\n",
    "\n",
    "def get_rolling(df, window):\n",
    "    # window is in seconds\n",
    "    df = df.sort_values('ts')\n",
    "    min_time = df.iloc[0]['ts']\n",
    "    max_time = df.iloc[-1]['ts']\n",
    "    windows = []\n",
    "    cur_time = min_time\n",
    "    cur_time_count = 0\n",
    "    i = 0\n",
    "    while True:\n",
    "        if i >= df.shape[0]:\n",
    "            break\n",
    "        \n",
    "        if i%100000 == 0:\n",
    "            print(\"Processed {} of {} entries\".format(i, df.shape[0]))\n",
    "            \n",
    "        r = df.iloc[i]\n",
    "        if r['ts'] < cur_time + 30:\n",
    "            cur_time_count += 1\n",
    "            i += 1\n",
    "            \n",
    "        else:\n",
    "            windows.append([cur_time, cur_time_count])\n",
    "            cur_time += 30\n",
    "            cur_time_count = 0\n",
    "    \n",
    "    print(\"done\")\n",
    "    return windows\n",
    "\n",
    "# get request volume over time windows of 30 seconds.\n",
    "freq = get_rolling(tdf, WINDOW_SIZE_SECONDS)"
   ]
  },
  {
   "cell_type": "code",
   "execution_count": 155,
   "metadata": {},
   "outputs": [
    {
     "data": {
      "text/plain": [
       "<matplotlib.axes._subplots.AxesSubplot at 0x1d21bb9c1c8>"
      ]
     },
     "execution_count": 155,
     "metadata": {},
     "output_type": "execute_result"
    },
    {
     "data": {
      "image/png": "[encoded data removed]",
      "text/plain": [
       "<Figure size 432x288 with 1 Axes>"
      ]
     },
     "metadata": {
      "needs_background": "light"
     },
     "output_type": "display_data"
    }
   ],
   "source": [
    "# we plot the requests against time here, and notice there are bursts of time where the requests\n",
    "# come in at once. We can infer that there is no observable pattern here.\n",
    "freq_df = pd.DataFrame(freq, columns = ['ts', 'count'])\n",
    "freq_df = freq_df.set_index('ts')\n",
    "freq_df.plot()"
   ]
  },
  {
   "cell_type": "code",
   "execution_count": 186,
   "metadata": {},
   "outputs": [
    {
     "data": {
      "text/plain": [
       "[<matplotlib.lines.Line2D at 0x1d21c02d108>]"
      ]
     },
     "execution_count": 186,
     "metadata": {},
     "output_type": "execute_result"
    },
    {
     "data": {
      "image/png": "[encoded data removed]",
      "text/plain": [
       "<Figure size 432x288 with 1 Axes>"
      ]
     },
     "metadata": {
      "needs_background": "light"
     },
     "output_type": "display_data"
    }
   ],
   "source": [
    "# Do fourier transform to find the frequency of requests coming in.\n",
    "# We can then filter by the power of the frequency vector, and graylist IPs which have\n",
    "# the power of one or more frequencies (greater than a threshold) exceeding some amount.\n",
    "# I'm not entirely sure about the mathematics behind how this works since I have not formally studied\n",
    "# fourier transforms - I'm just aware that this will allow us to identify the periodicity\n",
    "# of the requests which are being made. For instance, in the graph below, it seems that there is no real\n",
    "# pattern for this particular IP, as expected. \n",
    "# If a threshold was set without a minimum frequency, then this IP would be\n",
    "# graylisted. However, with a minimum frequency such as once every 3 minutes, this particular IP\n",
    "# would not be flagged as a possible IOC for periodic beaconing, since there does not exist a frequency\n",
    "# greater than 3 where a significant power is observed.\n",
    "FFT = abs(fft(freq_df['count']))\n",
    "freqs = fftfreq(freq_df.shape[0], 1/WINDOW_SIZE_SECONDS)\n",
    "xlim(0,max(freqs))\n",
    "plot(freqs, FFT)"
   ]
  },
  {
   "cell_type": "code",
   "execution_count": 199,
   "metadata": {},
   "outputs": [
    {
     "data": {
      "text/plain": [
       "<matplotlib.axes._subplots.AxesSubplot at 0x1d21c1ff4c8>"
      ]
     },
     "execution_count": 199,
     "metadata": {},
     "output_type": "execute_result"
    },
    {
     "data": {
      "image/png": "[encoded data removed]",
      "text/plain": [
       "<Figure size 432x288 with 1 Axes>"
      ]
     },
     "metadata": {
      "needs_background": "light"
     },
     "output_type": "display_data"
    }
   ],
   "source": [
    "# To test the robustness of this experiment, let's simulate a host where periodic beaconing is taking place\n",
    "TEST_WINDOW_SIZE = 30.0\n",
    "BASE_TIMESTAMP = 1614171541.0\n",
    "\n",
    "np.random.seed(int(time.time()))\n",
    "\n",
    "test_freq = []\n",
    "for i in range(100):\n",
    "    ts = BASE_TIMESTAMP + i * TEST_WINDOW_SIZE\n",
    "    test_freq.append([ts, np.random.randint(low = 0, high = 5) \n",
    "                      + (np.random.randint(low = 60, high = 100) if i % 8 == 2 else 0)]) # every 4 minutes\n",
    "\n",
    "test_freq_df = pd.DataFrame(test_freq, columns = ['ts', 'count'])\n",
    "test_freq_df = test_freq_df.set_index('ts')\n",
    "test_freq_df.plot()"
   ]
  },
  {
   "cell_type": "code",
   "execution_count": 249,
   "metadata": {},
   "outputs": [
    {
     "data": {
      "text/plain": [
       "[<matplotlib.lines.Line2D at 0x1d21c4d2b08>]"
      ]
     },
     "execution_count": 249,
     "metadata": {},
     "output_type": "execute_result"
    },
    {
     "data": {
      "image/png": "[encoded data removed]",
      "text/plain": [
       "<Figure size 432x288 with 1 Axes>"
      ]
     },
     "metadata": {
      "needs_background": "light"
     },
     "output_type": "display_data"
    }
   ],
   "source": [
    "TEST_FFT = abs(fft(test_freq_df['count']))\n",
    "test_freqs = fftfreq(test_freq_df.shape[0], 1/TEST_WINDOW_SIZE)\n",
    "xlim(0,max(test_freqs))\n",
    "plot(test_freqs, TEST_FFT)"
   ]
  },
  {
   "cell_type": "code",
   "execution_count": 245,
   "metadata": {},
   "outputs": [
    {
     "data": {
      "text/plain": [
       "<matplotlib.axes._subplots.AxesSubplot at 0x1d21bff88c8>"
      ]
     },
     "execution_count": 245,
     "metadata": {},
     "output_type": "execute_result"
    },
    {
     "data": {
      "image/png": "[encoded data removed]",
      "text/plain": [
       "<Figure size 432x288 with 1 Axes>"
      ]
     },
     "metadata": {
      "needs_background": "light"
     },
     "output_type": "display_data"
    }
   ],
   "source": [
    "# IMPLEMENTATION\n",
    "# Based on experiment 3.\n",
    "# Let's apply this to find IPs which request large quantities of data every time period, to find\n",
    "# attackers who may be periodically exfiltrating data from a web server. In this case, we sum the payload\n",
    "# sizes of the data being sent to a host. We make the assumption that the attacker exfils the data to \n",
    "# the same destination IP address (not distributed).\n",
    "# Periodic exfiltration may occur to prevent tripping network monitoring tools which detect a sudden\n",
    "# massive surge in data being sent from the web server, by spacing out the transfers.\n",
    "WINDOW_SIZE = 30 # seconds\n",
    "TOTAL_VOLUME_THRESHOLD = 10000000 # 10 million bytes\n",
    "MIN_FREQ_THRESHOLD = 4 # in multiples of window size\n",
    "MIN_POWER_THRESHOLD = 1e8 # minimum amplitude of a frequency to graylist\n",
    "\n",
    "tdf = df.groupby('id.orig_h')['response_body_len'].sum()\n",
    "tdf = tdf.sort_values(ascending = False)\n",
    "tdf[:10].plot.bar(title = \"Total data received by host\") # test\n",
    "# tdf['response_body_len']\n"
   ]
  },
  {
   "cell_type": "code",
   "execution_count": 226,
   "metadata": {},
   "outputs": [],
   "source": [
    "# Create window function for response body length aggregation against time\n",
    "def get_rolling_length(df, window):\n",
    "    print(\"Generating rolling window for {}\".format(df.iloc[0]['id.orig_h']))\n",
    "    # window is in seconds\n",
    "    df = df.sort_values('ts')\n",
    "    min_time = df.iloc[0]['ts']\n",
    "    max_time = df.iloc[-1]['ts']\n",
    "    windows = []\n",
    "    cur_time = min_time\n",
    "    cur_time_size = 0\n",
    "    i = 0\n",
    "    while True:\n",
    "        if i >= df.shape[0]:\n",
    "            break\n",
    "        \n",
    "        if i%100000 == 0:\n",
    "            print(\"Processed {} of {} entries\".format(i, df.shape[0]))\n",
    "            \n",
    "        r = df.iloc[i]\n",
    "        if r['ts'] < cur_time + 30:\n",
    "            cur_time_size += r['response_body_len']\n",
    "            i += 1\n",
    "            \n",
    "        else:\n",
    "            windows.append([cur_time, cur_time_size])\n",
    "            cur_time += 30\n",
    "            cur_time_size = 0\n",
    "    \n",
    "    print(\"done\")\n",
    "    return windows"
   ]
  },
  {
   "cell_type": "code",
   "execution_count": 248,
   "metadata": {},
   "outputs": [
    {
     "name": "stdout",
     "output_type": "stream",
     "text": [
      "Generating rolling window for 192.168.202.102\n",
      "Processed 0 of 212234 entries\n",
      "Processed 100000 of 212234 entries\n",
      "Processed 200000 of 212234 entries\n",
      "done\n",
      "Generating rolling window for 192.168.202.125\n",
      "Processed 0 of 8794 entries\n",
      "done\n",
      "Generating rolling window for 192.168.204.60\n",
      "Processed 0 of 22 entries\n",
      "done\n",
      "Generating rolling window for 192.168.202.110\n",
      "Processed 0 of 169126 entries\n",
      "Processed 100000 of 169126 entries\n",
      "done\n",
      "Generating rolling window for 192.168.202.138\n",
      "Processed 0 of 47379 entries\n",
      "done\n",
      "Generating rolling window for 192.168.202.79\n",
      "Processed 0 of 232259 entries\n",
      "Processed 100000 of 232259 entries\n",
      "Processed 200000 of 232259 entries\n",
      "done\n",
      "Generating rolling window for 192.168.202.140\n",
      "Processed 0 of 28332 entries\n",
      "done\n",
      "Generating rolling window for 192.168.202.112\n",
      "Processed 0 of 5631 entries\n",
      "done\n",
      "Generating rolling window for 192.168.202.90\n",
      "Processed 0 of 1750 entries\n",
      "done\n",
      "Generating rolling window for 192.168.202.76\n",
      "Processed 0 of 4497 entries\n",
      "done\n",
      "Generating rolling window for 192.168.202.150\n",
      "Processed 0 of 2099 entries\n",
      "done\n",
      "Generating rolling window for 192.168.202.87\n",
      "Processed 0 of 1040 entries\n",
      "done\n",
      "Generating rolling window for 192.168.202.118\n",
      "Processed 0 of 14032 entries\n",
      "done\n",
      "Generating rolling window for 192.168.202.136\n",
      "Processed 0 of 470 entries\n",
      "done\n",
      "Generating rolling window for 192.168.203.45\n",
      "Processed 0 of 1429 entries\n",
      "done\n",
      "[{'src_ip': '192.168.202.125', 'total_req_volume': 273795056}, {'src_ip': '192.168.204.60', 'total_req_volume': 222115745}]\n"
     ]
    }
   ],
   "source": [
    "graylist_3 = []\n",
    "for k, v in tdf.items():\n",
    "    if v > TOTAL_VOLUME_THRESHOLD:\n",
    "        vdf = df[df['id.orig_h'] == k]\n",
    "        windows = get_rolling_length(vdf, WINDOW_SIZE)\n",
    "        windows_df = pd.DataFrame(windows, columns = ['ts', 'volume'])\n",
    "        windows_df = windows_df.set_index('ts')\n",
    "        FFT = abs(fft(windows_df['volume']))\n",
    "        freqs = fftfreq(windows_df.shape[0], 1/WINDOW_SIZE)\n",
    "        flag = False\n",
    "        for x, y in zip(freqs, FFT):\n",
    "            if x >= MIN_FREQ_THRESHOLD and y > MIN_POWER_THRESHOLD:\n",
    "                flag = True\n",
    "                \n",
    "        if flag:\n",
    "            graylist_3.append({'src_ip': k, 'total_req_volume': v})\n",
    "    \n",
    "print(graylist_3)"
   ]
  }
 ],
 "metadata": {
  "kernelspec": {
   "display_name": "Python 3",
   "language": "python",
   "name": "python3"
  },
  "language_info": {
   "codemirror_mode": {
    "name": "ipython",
    "version": 3
   },
   "file_extension": ".py",
   "mimetype": "text/x-python",
   "name": "python",
   "nbconvert_exporter": "python",
   "pygments_lexer": "ipython3",
   "version": "3.7.6"
  }
 },
 "nbformat": 4,
 "nbformat_minor": 4
}
