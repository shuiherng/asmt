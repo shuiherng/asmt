{
 "cells": [
  {
   "cell_type": "code",
   "execution_count": 29,
   "metadata": {},
   "outputs": [],
   "source": [
    "LOG_PATH = \"../log/http.log\"\n",
    "\n",
    "import matplotlib.pyplot as plt\n",
    "import numpy as np\n",
    "import pandas as pd"
   ]
  },
  {
   "cell_type": "code",
   "execution_count": 17,
   "metadata": {},
   "outputs": [],
   "source": [
    "\"\"\"\n",
    "Reference: http://gauss.ececs.uc.edu/Courses/c6055/pdf/bro_log_vars.pdf\n",
    "\"\"\"\n",
    "\n",
    "names = ['ts', 'uid', 'id.orig_h', 'id.orig_p', 'id.resp_h', 'id.resp_p', 'id.trans_depth', 'method', \n",
    "         'host', 'uri', 'referrer', 'user_agent', 'request_body_len', 'response_body_len', 'status_code',\n",
    "         'status_msg', 'info_code', 'info_msg', 'filename', 'tags', 'username', 'password', 'proxied',\n",
    "         'orig_fuids', 'orig_mime_types', 'resp_fuids', 'resp_mime_types']"
   ]
  },
  {
   "cell_type": "code",
   "execution_count": 9,
   "metadata": {},
   "outputs": [
    {
     "data": {
      "text/html": [
       "<div>\n",
       "<style scoped>\n",
       "    .dataframe tbody tr th:only-of-type {\n",
       "        vertical-align: middle;\n",
       "    }\n",
       "\n",
       "    .dataframe tbody tr th {\n",
       "        vertical-align: top;\n",
       "    }\n",
       "\n",
       "    .dataframe thead th {\n",
       "        text-align: right;\n",
       "    }\n",
       "</style>\n",
       "<table border=\"1\" class=\"dataframe\">\n",
       "  <thead>\n",
       "    <tr style=\"text-align: right;\">\n",
       "      <th></th>\n",
       "      <th>ts</th>\n",
       "      <th>uid</th>\n",
       "      <th>id.orig_h</th>\n",
       "      <th>id.orig_p</th>\n",
       "      <th>id.resp_h</th>\n",
       "      <th>id.resp_p</th>\n",
       "      <th>id.trans_depth</th>\n",
       "      <th>method</th>\n",
       "      <th>host</th>\n",
       "      <th>uri</th>\n",
       "      <th>...</th>\n",
       "      <th>info_msg</th>\n",
       "      <th>filename</th>\n",
       "      <th>tags</th>\n",
       "      <th>username</th>\n",
       "      <th>password</th>\n",
       "      <th>proxied</th>\n",
       "      <th>orig_fuids</th>\n",
       "      <th>orig_mime_types</th>\n",
       "      <th>resp_fuids</th>\n",
       "      <th>resp_mime_types</th>\n",
       "    </tr>\n",
       "  </thead>\n",
       "  <tbody>\n",
       "    <tr>\n",
       "      <th>2048437</th>\n",
       "      <td>1.332017e+09</td>\n",
       "      <td>CAfsIz2A8Xu5WbUXK8</td>\n",
       "      <td>192.168.202.87</td>\n",
       "      <td>44974</td>\n",
       "      <td>192.168.201.2</td>\n",
       "      <td>80</td>\n",
       "      <td>10</td>\n",
       "      <td>POST</td>\n",
       "      <td>192.168.201.2</td>\n",
       "      <td>/reporting/generateReport.php</td>\n",
       "      <td>...</td>\n",
       "      <td>-</td>\n",
       "      <td>-</td>\n",
       "      <td>(empty)</td>\n",
       "      <td>-</td>\n",
       "      <td>-</td>\n",
       "      <td>-</td>\n",
       "      <td>F56aWQ2fj0GIeiEAja</td>\n",
       "      <td>text/plain</td>\n",
       "      <td>F3NLO522BrxzbzGdt5</td>\n",
       "      <td>text/html</td>\n",
       "    </tr>\n",
       "    <tr>\n",
       "      <th>2048438</th>\n",
       "      <td>1.332017e+09</td>\n",
       "      <td>CzyNKg1x0ufzurDE6f</td>\n",
       "      <td>192.168.202.87</td>\n",
       "      <td>44975</td>\n",
       "      <td>192.168.201.2</td>\n",
       "      <td>80</td>\n",
       "      <td>1</td>\n",
       "      <td>POST</td>\n",
       "      <td>192.168.201.2</td>\n",
       "      <td>/flagsubmission/getHandleInfo.php</td>\n",
       "      <td>...</td>\n",
       "      <td>-</td>\n",
       "      <td>-</td>\n",
       "      <td>(empty)</td>\n",
       "      <td>-</td>\n",
       "      <td>-</td>\n",
       "      <td>-</td>\n",
       "      <td>F7WFOD3BY7HbV8KjX3</td>\n",
       "      <td>text/plain</td>\n",
       "      <td>FuzeP9PNt0qr85Ib2</td>\n",
       "      <td>text/html</td>\n",
       "    </tr>\n",
       "    <tr>\n",
       "      <th>2048439</th>\n",
       "      <td>1.332017e+09</td>\n",
       "      <td>CzyNKg1x0ufzurDE6f</td>\n",
       "      <td>192.168.202.87</td>\n",
       "      <td>44975</td>\n",
       "      <td>192.168.201.2</td>\n",
       "      <td>80</td>\n",
       "      <td>2</td>\n",
       "      <td>POST</td>\n",
       "      <td>192.168.201.2</td>\n",
       "      <td>/reporting/generateReport.php</td>\n",
       "      <td>...</td>\n",
       "      <td>-</td>\n",
       "      <td>-</td>\n",
       "      <td>(empty)</td>\n",
       "      <td>-</td>\n",
       "      <td>-</td>\n",
       "      <td>-</td>\n",
       "      <td>FFbfyC2hSnNrUOKtSa</td>\n",
       "      <td>text/plain</td>\n",
       "      <td>FqI5OD2cvTjws3VMd</td>\n",
       "      <td>text/html</td>\n",
       "    </tr>\n",
       "    <tr>\n",
       "      <th>2048440</th>\n",
       "      <td>1.332017e+09</td>\n",
       "      <td>CzyNKg1x0ufzurDE6f</td>\n",
       "      <td>192.168.202.87</td>\n",
       "      <td>44975</td>\n",
       "      <td>192.168.201.2</td>\n",
       "      <td>80</td>\n",
       "      <td>3</td>\n",
       "      <td>POST</td>\n",
       "      <td>192.168.201.2</td>\n",
       "      <td>/flagsubmission/getHandleInfo.php</td>\n",
       "      <td>...</td>\n",
       "      <td>-</td>\n",
       "      <td>-</td>\n",
       "      <td>(empty)</td>\n",
       "      <td>-</td>\n",
       "      <td>-</td>\n",
       "      <td>-</td>\n",
       "      <td>FH8qsC1rQAFZJHfnAc</td>\n",
       "      <td>text/plain</td>\n",
       "      <td>FupI2p4JEuUGrdlK25</td>\n",
       "      <td>text/html</td>\n",
       "    </tr>\n",
       "    <tr>\n",
       "      <th>2048441</th>\n",
       "      <td>1.332017e+09</td>\n",
       "      <td>CzyNKg1x0ufzurDE6f</td>\n",
       "      <td>192.168.202.87</td>\n",
       "      <td>44975</td>\n",
       "      <td>192.168.201.2</td>\n",
       "      <td>80</td>\n",
       "      <td>4</td>\n",
       "      <td>POST</td>\n",
       "      <td>192.168.201.2</td>\n",
       "      <td>/reporting/generateReport.php</td>\n",
       "      <td>...</td>\n",
       "      <td>-</td>\n",
       "      <td>-</td>\n",
       "      <td>(empty)</td>\n",
       "      <td>-</td>\n",
       "      <td>-</td>\n",
       "      <td>-</td>\n",
       "      <td>FfrmnO2FQmr9ha1HK2</td>\n",
       "      <td>text/plain</td>\n",
       "      <td>FMFblO2dIdqHPs1S29</td>\n",
       "      <td>text/html</td>\n",
       "    </tr>\n",
       "  </tbody>\n",
       "</table>\n",
       "<p>5 rows × 27 columns</p>\n",
       "</div>"
      ],
      "text/plain": [
       "                   ts                 uid       id.orig_h  id.orig_p  \\\n",
       "2048437  1.332017e+09  CAfsIz2A8Xu5WbUXK8  192.168.202.87      44974   \n",
       "2048438  1.332017e+09  CzyNKg1x0ufzurDE6f  192.168.202.87      44975   \n",
       "2048439  1.332017e+09  CzyNKg1x0ufzurDE6f  192.168.202.87      44975   \n",
       "2048440  1.332017e+09  CzyNKg1x0ufzurDE6f  192.168.202.87      44975   \n",
       "2048441  1.332017e+09  CzyNKg1x0ufzurDE6f  192.168.202.87      44975   \n",
       "\n",
       "             id.resp_h  id.resp_p  id.trans_depth method           host  \\\n",
       "2048437  192.168.201.2         80              10   POST  192.168.201.2   \n",
       "2048438  192.168.201.2         80               1   POST  192.168.201.2   \n",
       "2048439  192.168.201.2         80               2   POST  192.168.201.2   \n",
       "2048440  192.168.201.2         80               3   POST  192.168.201.2   \n",
       "2048441  192.168.201.2         80               4   POST  192.168.201.2   \n",
       "\n",
       "                                       uri  ... info_msg filename     tags  \\\n",
       "2048437      /reporting/generateReport.php  ...        -        -  (empty)   \n",
       "2048438  /flagsubmission/getHandleInfo.php  ...        -        -  (empty)   \n",
       "2048439      /reporting/generateReport.php  ...        -        -  (empty)   \n",
       "2048440  /flagsubmission/getHandleInfo.php  ...        -        -  (empty)   \n",
       "2048441      /reporting/generateReport.php  ...        -        -  (empty)   \n",
       "\n",
       "         username password proxied          orig_fuids orig_mime_types  \\\n",
       "2048437         -        -       -  F56aWQ2fj0GIeiEAja      text/plain   \n",
       "2048438         -        -       -  F7WFOD3BY7HbV8KjX3      text/plain   \n",
       "2048439         -        -       -  FFbfyC2hSnNrUOKtSa      text/plain   \n",
       "2048440         -        -       -  FH8qsC1rQAFZJHfnAc      text/plain   \n",
       "2048441         -        -       -  FfrmnO2FQmr9ha1HK2      text/plain   \n",
       "\n",
       "                 resp_fuids resp_mime_types  \n",
       "2048437  F3NLO522BrxzbzGdt5       text/html  \n",
       "2048438   FuzeP9PNt0qr85Ib2       text/html  \n",
       "2048439   FqI5OD2cvTjws3VMd       text/html  \n",
       "2048440  FupI2p4JEuUGrdlK25       text/html  \n",
       "2048441  FMFblO2dIdqHPs1S29       text/html  \n",
       "\n",
       "[5 rows x 27 columns]"
      ]
     },
     "execution_count": 9,
     "metadata": {},
     "output_type": "execute_result"
    }
   ],
   "source": [
    "df = pd.read_csv(LOG_PATH, sep = \"\\\\t\", engine = 'python', header = None, names = names)\n",
    "df.tail()\n",
    "        "
   ]
  },
  {
   "cell_type": "code",
   "execution_count": 7,
   "metadata": {},
   "outputs": [
    {
     "data": {
      "text/plain": [
       "ts                   float64\n",
       "uid                   object\n",
       "id.orig_h             object\n",
       "id.orig_p              int64\n",
       "id.resp_h             object\n",
       "id.resp_p              int64\n",
       "id.trans_depth         int64\n",
       "method                object\n",
       "host                  object\n",
       "uri                   object\n",
       "referrer              object\n",
       "user_agent            object\n",
       "request_body_len       int64\n",
       "response_body_len      int64\n",
       "status_code           object\n",
       "status_msg            object\n",
       "info_code             object\n",
       "info_msg              object\n",
       "filename              object\n",
       "tags                  object\n",
       "username              object\n",
       "password              object\n",
       "proxied               object\n",
       "orig_fuids            object\n",
       "orig_mime_types       object\n",
       "resp_fuids            object\n",
       "resp_mime_types       object\n",
       "dtype: object"
      ]
     },
     "execution_count": 7,
     "metadata": {},
     "output_type": "execute_result"
    }
   ],
   "source": [
    "# some of the types don't really match up with the documentation\n",
    "df.dtypes"
   ]
  },
  {
   "cell_type": "code",
   "execution_count": 57,
   "metadata": {},
   "outputs": [
    {
     "data": {
      "text/plain": [
       "<matplotlib.axes._subplots.AxesSubplot at 0x1d21bd8ea88>"
      ]
     },
     "execution_count": 57,
     "metadata": {},
     "output_type": "execute_result"
    },
    {
     "data": {
      "image/png": "[encoded data removed]",
      "text/plain": [
       "<Figure size 432x288 with 1 Axes>"
      ]
     },
     "metadata": {
      "needs_background": "light"
     },
     "output_type": "display_data"
    }
   ],
   "source": [
    "# here we perform some basic visualizations to get a sense of the data\n",
    "# find unusually high request counts by IP\n",
    "# can indicate attempted denial of service or host trying to check for open TCP ports\n",
    "# We implement the denial of service detection, but it seems the port scanning attack is not within the\n",
    "# scope of this dataset since the destination ports are limited to the following:\n",
    "# [80, 5357, 5488, 8080, 8000, 1337, 3128, 8834]\n",
    "df['id.orig_h'].value_counts()[:10].plot.bar(width = 0.4, position = 1, color = 'red', title = 'Fig 1: Source IP Frequencies')\n"
   ]
  },
  {
   "cell_type": "code",
   "execution_count": 59,
   "metadata": {},
   "outputs": [
    {
     "data": {
      "text/plain": [
       "<matplotlib.axes._subplots.AxesSubplot at 0x1d21bd92688>"
      ]
     },
     "execution_count": 59,
     "metadata": {},
     "output_type": "execute_result"
    },
    {
     "data": {
      "image/png": "[encoded data removed]",
      "text/plain": [
       "<Figure size 432x288 with 1 Axes>"
      ]
     },
     "metadata": {
      "needs_background": "light"
     },
     "output_type": "display_data"
    }
   ],
   "source": [
    "# check for large amount of replies\n",
    "# could suggest bulk exfiltration of data from servers\n",
    "df['id.resp_h'].value_counts()[:10].plot.bar(width = 0.4, position = 0, color = 'blue', title = 'Fig 2: Dest IP Frequencies')"
   ]
  },
  {
   "cell_type": "code",
   "execution_count": 76,
   "metadata": {},
   "outputs": [
    {
     "name": "stdout",
     "output_type": "stream",
     "text": [
      "Total requests: (1289498, 27)\n",
      "Unique dest ports [80]\n",
      "Timestamp range: 17822.819999933243\n",
      "Avg. Requests per second: 72.35095231870321\n"
     ]
    }
   ],
   "source": [
    "# EXPERIMENT 1: Denial of Service\n",
    "# Nature of attack: Assessing web server's ability to respond to large quantities of requests\n",
    "# from a single host.\n",
    "# We can simply output the IPs where the number of requests exceed a certain threshold \n",
    "# (in terms of requests per unit time), but we can do better. Let's take a look at the nature of these\n",
    "# requests. Specifically, we focus first on the source IP which issued the most number of requests observed.\n",
    "# We assume that the attacks are not distributed in this case - they're all carried out by the same src.\n",
    "\n",
    "tdf = df[df['id.orig_h'] == '192.168.203.63']\n",
    "print(\"Total requests:\", tdf.shape) # we check the number of requests being made by this IP address\n",
    "print(\"Unique dest ports\", tdf['id.resp_p'].unique()) # number of dest ports - here it's just 80 so they're all http requests\n",
    "print(\"Timestamp range:\", tdf['ts'].max()-tdf['ts'].min()) # timestamp range (in seconds)\n",
    "\n",
    "print(\"Avg. Requests per second:\", tdf.shape[0]/(tdf['ts'].max()-tdf['ts'].min()))\n",
    "# We observe that on average, this IP address makes 72 queries a second over the course of ~5 hours."
   ]
  },
  {
   "cell_type": "code",
   "execution_count": 96,
   "metadata": {},
   "outputs": [
    {
     "name": "stdout",
     "output_type": "stream",
     "text": [
      "[{'src_ip': '192.168.203.63', 'total_req': 1289498, 'avg_req_per_sec': 72.35095231870321}, {'src_ip': '192.168.202.110', 'total_req': 169126, 'avg_req_per_sec': 5.2968156656409775}]\n"
     ]
    }
   ],
   "source": [
    "# SAMPLE IMPLEMENTATION\n",
    "# Based on experiment 1\n",
    "# We perform this analysis for all IPs (which send a certain threshold number of packets)\n",
    "TOTAL_REQ_THRESHOLD = 2000\n",
    "REQ_PER_SEC_THRESHOLD = 5.0\n",
    "\n",
    "graylist_1 = []\n",
    "for src, freq in df['id.orig_h'].value_counts().items():\n",
    "    if freq > TOTAL_REQ_THRESHOLD:\n",
    "        tdf = df[df['id.orig_h'] == src]\n",
    "        if tdf.shape[0]/(tdf['ts'].max() - tdf['ts'].min()) > REQ_PER_SEC_THRESHOLD:\n",
    "            graylist_1.append({'src_ip': src, \n",
    "                             'total_req': tdf.shape[0], \n",
    "                             'avg_req_per_sec': tdf.shape[0]/(tdf['ts'].max() - tdf['ts'].min())})\n",
    "print(graylist_1)"
   ]
  },
  {
   "cell_type": "code",
   "execution_count": 92,
   "metadata": {},
   "outputs": [
    {
     "name": "stdout",
     "output_type": "stream",
     "text": [
      "unique ports: [  80 5357 5488 8080 8000 1337 3128 8834]\n",
      "IPs targeting port 8834:\n",
      " 192.168.204.45    2\n",
      "Name: id.orig_h, dtype: int64\n"
     ]
    }
   ],
   "source": [
    "# EXPERIMENT 2: Port Scanning and known attacks correlated to ports\n",
    "# Nature of Attack: An attacker may wish to find open TCP ports, or to try their luck with port knocking.\n",
    "# This analysis is performed by finding which IP addresses make requests to a large number of different ports.\n",
    "print(\"unique ports:\", df['id.resp_p'].unique())\n",
    "\n",
    "# Some research shows that a certain number of ports have been known to be used by malicious attackers.\n",
    "# For instance: port 8834 is commonly used by Nessus web, an application used to discover network\n",
    "# vulnerabilities. To find IPs which are utilizing this port:\n",
    "print(\"IPs targeting port 8834:\\n\",df[df['id.resp_p'] == 8834]['id.orig_h'].value_counts())\n",
    "    \n",
    "# We observe that 192.168.204.45 is targeting this port, and has issued two requests. We may want to add\n",
    "# this IP to the graylist for further study."
   ]
  },
  {
   "cell_type": "code",
   "execution_count": 95,
   "metadata": {},
   "outputs": [
    {
     "name": "stdout",
     "output_type": "stream",
     "text": [
      "[{'src_ip': '192.168.202.112', 'total_req': 1, 'target_port': 1337}, {'src_ip': '192.168.202.110', 'total_req': 1, 'target_port': 1337}, {'src_ip': '192.168.202.110', 'total_req': 12593, 'target_port': 3128}, {'src_ip': '192.168.202.138', 'total_req': 7381, 'target_port': 3128}, {'src_ip': '192.168.202.140', 'total_req': 2434, 'target_port': 3128}, {'src_ip': '192.168.202.68', 'total_req': 230, 'target_port': 3128}, {'src_ip': '192.168.202.112', 'total_req': 50, 'target_port': 3128}, {'src_ip': '192.168.202.79', 'total_req': 35, 'target_port': 3128}, {'src_ip': '192.168.202.108', 'total_req': 24, 'target_port': 3128}, {'src_ip': '192.168.204.45', 'total_req': 18, 'target_port': 3128}, {'src_ip': '192.168.202.90', 'total_req': 11, 'target_port': 3128}, {'src_ip': '192.168.202.4', 'total_req': 8, 'target_port': 3128}, {'src_ip': '2001:dbb:c18:202:20c:29ff:fe93:571e', 'total_req': 5, 'target_port': 3128}, {'src_ip': '192.168.203.45', 'total_req': 4, 'target_port': 3128}, {'src_ip': '192.168.202.136', 'total_req': 3, 'target_port': 3128}, {'src_ip': '192.168.202.100', 'total_req': 3, 'target_port': 3128}, {'src_ip': '192.168.202.94', 'total_req': 2, 'target_port': 3128}, {'src_ip': '192.168.202.80', 'total_req': 1, 'target_port': 3128}, {'src_ip': '192.168.202.101', 'total_req': 1, 'target_port': 3128}, {'src_ip': '192.168.204.45', 'total_req': 2, 'target_port': 8834}]\n"
     ]
    }
   ],
   "source": [
    "# SAMPLE IMPLEMENTATION\n",
    "# Based on experiment 2\n",
    "# We perform this same analysis by constructing port filter rules for the following ports\n",
    "# 1337: Used by the trojan Shadyshell (According to SANS)\n",
    "# 3128: Used by several threats and trojans including RingZero, Mydoom and Deadhat\n",
    "# 8834: As above.\n",
    "# We assume that we have a list of ports which are known to be vulnerable and are \"easy targets\"\n",
    "# for attackers, which can be used for running this form of analysis\n",
    "GRAYLIST_PORTS = [1337, 3128, 8834]\n",
    "\n",
    "graylist_2 = []\n",
    "for port in GRAYLIST_PORTS:\n",
    "    for src, freq in df[df['id.resp_p'] == port]['id.orig_h'].value_counts().items():\n",
    "        graylist_2.append({'src_ip': src, 'total_req': freq, 'target_port': port})\n",
    "\n",
    "print(graylist_2)"
   ]
  }
 ],
 "metadata": {
  "kernelspec": {
   "display_name": "Python 3",
   "language": "python",
   "name": "python3"
  },
  "language_info": {
   "codemirror_mode": {
    "name": "ipython",
    "version": 3
   },
   "file_extension": ".py",
   "mimetype": "text/x-python",
   "name": "python",
   "nbconvert_exporter": "python",
   "pygments_lexer": "ipython3",
   "version": "3.7.6"
  }
 },
 "nbformat": 4,
 "nbformat_minor": 4
}
